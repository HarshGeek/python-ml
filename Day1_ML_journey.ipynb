{
  "nbformat": 4,
  "nbformat_minor": 0,
  "metadata": {
    "colab": {
      "provenance": []
    },
    "kernelspec": {
      "name": "python3",
      "display_name": "Python 3"
    },
    "language_info": {
      "name": "python"
    }
  },
  "cells": [
    {
      "cell_type": "code",
      "execution_count": null,
      "metadata": {
        "colab": {
          "base_uri": "https://localhost:8080/"
        },
        "id": "HpmbKqI7jltH",
        "outputId": "4ce8517d-73d1-4838-caa0-3397c21db1e7"
      },
      "outputs": [
        {
          "output_type": "stream",
          "name": "stdout",
          "text": [
            "hello Bhai!\n"
          ]
        }
      ],
      "source": [
        "print(\"hello Bhai!\")"
      ]
    },
    {
      "cell_type": "code",
      "source": [
        "a=2\n",
        "print(type(a))\n",
        "a=2.1\n",
        "print(type(a))\n",
        "a=\"hello\"\n",
        "print(type(a))\n",
        "print(a)"
      ],
      "metadata": {
        "id": "34ZbDQBAxLWX",
        "colab": {
          "base_uri": "https://localhost:8080/"
        },
        "outputId": "4b20890d-51b2-4baa-9362-7d4f1f9c05fb"
      },
      "execution_count": null,
      "outputs": [
        {
          "output_type": "stream",
          "name": "stdout",
          "text": [
            "<class 'int'>\n",
            "<class 'float'>\n",
            "<class 'str'>\n",
            "hello\n"
          ]
        }
      ]
    },
    {
      "cell_type": "code",
      "source": [
        "a=100\n",
        "print(id(a))"
      ],
      "metadata": {
        "colab": {
          "base_uri": "https://localhost:8080/"
        },
        "id": "hPI1wL4tBLSY",
        "outputId": "eed2fd41-1fa1-4390-d246-cf8491e5585f"
      },
      "execution_count": null,
      "outputs": [
        {
          "output_type": "stream",
          "name": "stdout",
          "text": [
            "10754024\n"
          ]
        }
      ]
    },
    {
      "cell_type": "code",
      "source": [
        "b=100\n",
        "print(id(b))"
      ],
      "metadata": {
        "colab": {
          "base_uri": "https://localhost:8080/"
        },
        "id": "BkQ7B5dRD_v2",
        "outputId": "16c2d0c7-0076-4fc1-f95f-776622bfa3cb"
      },
      "execution_count": null,
      "outputs": [
        {
          "output_type": "stream",
          "name": "stdout",
          "text": [
            "10754024\n"
          ]
        }
      ]
    },
    {
      "cell_type": "code",
      "source": [
        "c=100\n",
        "print(id(c))"
      ],
      "metadata": {
        "colab": {
          "base_uri": "https://localhost:8080/"
        },
        "id": "JJQMj1-5EMMi",
        "outputId": "78353765-e31b-452b-e356-c4252479abbc"
      },
      "execution_count": null,
      "outputs": [
        {
          "output_type": "stream",
          "name": "stdout",
          "text": [
            "10754024\n"
          ]
        }
      ]
    },
    {
      "cell_type": "code",
      "source": [
        "c=a"
      ],
      "metadata": {
        "id": "LxaXcrGRGxYs"
      },
      "execution_count": null,
      "outputs": []
    },
    {
      "cell_type": "code",
      "source": [
        "b=c\n",
        "print(id(b))"
      ],
      "metadata": {
        "colab": {
          "base_uri": "https://localhost:8080/"
        },
        "id": "G6Ud_natGqkT",
        "outputId": "1d5c9bc7-1f36-4c19-db1a-e37134dc16bf"
      },
      "execution_count": null,
      "outputs": [
        {
          "output_type": "stream",
          "name": "stdout",
          "text": [
            "10754024\n"
          ]
        }
      ]
    },
    {
      "cell_type": "code",
      "source": [
        "a=b=c\n",
        "print(a,b,c)"
      ],
      "metadata": {
        "id": "iw9utsoYHfDL",
        "outputId": "6e50a11a-2004-4442-a1d8-5dbb15b8f87c",
        "colab": {
          "base_uri": "https://localhost:8080/"
        }
      },
      "execution_count": null,
      "outputs": [
        {
          "output_type": "stream",
          "name": "stdout",
          "text": [
            "100 100 100\n"
          ]
        }
      ]
    },
    {
      "cell_type": "code",
      "source": [
        "import keyword as kw\n",
        "print(kw.kwlist) # List all the keywords in Python"
      ],
      "metadata": {
        "id": "uBhonXHkHpm4",
        "outputId": "745acea2-9583-4670-f712-9e06899bef4e",
        "colab": {
          "base_uri": "https://localhost:8080/"
        }
      },
      "execution_count": null,
      "outputs": [
        {
          "output_type": "stream",
          "name": "stdout",
          "text": [
            "['False', 'None', 'True', 'and', 'as', 'assert', 'async', 'await', 'break', 'class', 'continue', 'def', 'del', 'elif', 'else', 'except', 'finally', 'for', 'from', 'global', 'if', 'import', 'in', 'is', 'lambda', 'nonlocal', 'not', 'or', 'pass', 'raise', 'return', 'try', 'while', 'with', 'yield']\n"
          ]
        }
      ]
    },
    {
      "cell_type": "code",
      "source": [
        "as=2 # Keyawords cannot be used as variable name\n",
        "print(as)"
      ],
      "metadata": {
        "id": "BXOE4GOXKB3g",
        "outputId": "7b452357-5b2f-4124-8491-7ccd7514953f",
        "colab": {
          "base_uri": "https://localhost:8080/",
          "height": 106
        }
      },
      "execution_count": null,
      "outputs": [
        {
          "output_type": "error",
          "ename": "SyntaxError",
          "evalue": "invalid syntax (<ipython-input-22-95ab0417a2c5>, line 1)",
          "traceback": [
            "\u001b[0;36m  File \u001b[0;32m\"<ipython-input-22-95ab0417a2c5>\"\u001b[0;36m, line \u001b[0;32m1\u001b[0m\n\u001b[0;31m    as=2\u001b[0m\n\u001b[0m    ^\u001b[0m\n\u001b[0;31mSyntaxError\u001b[0m\u001b[0;31m:\u001b[0m invalid syntax\n"
          ]
        }
      ]
    },
    {
      "cell_type": "code",
      "source": [
        "# Multiline comments are made using \"\"\"\n",
        "\"\"\" This is\n",
        "Multi-line\n",
        "Comment \"\"\"\n",
        "print(\"Hello\")"
      ],
      "metadata": {
        "id": "EEhJaRrWKQo8",
        "outputId": "10b77604-be64-46aa-aeac-bacdb49833ad",
        "colab": {
          "base_uri": "https://localhost:8080/"
        }
      },
      "execution_count": null,
      "outputs": [
        {
          "output_type": "stream",
          "name": "stdout",
          "text": [
            "Hello\n"
          ]
        }
      ]
    },
    {
      "cell_type": "code",
      "source": [
        "print(instance(a))"
      ],
      "metadata": {
        "id": "ey2jYIa0Ld5n",
        "outputId": "557b38e0-a5a7-47ba-adac-ecaab71bb67e",
        "colab": {
          "base_uri": "https://localhost:8080/",
          "height": 141
        }
      },
      "execution_count": null,
      "outputs": [
        {
          "output_type": "error",
          "ename": "NameError",
          "evalue": "name 'instance' is not defined",
          "traceback": [
            "\u001b[0;31m---------------------------------------------------------------------------\u001b[0m",
            "\u001b[0;31mNameError\u001b[0m                                 Traceback (most recent call last)",
            "\u001b[0;32m<ipython-input-26-82d1b691d05a>\u001b[0m in \u001b[0;36m<cell line: 0>\u001b[0;34m()\u001b[0m\n\u001b[0;32m----> 1\u001b[0;31m \u001b[0mprint\u001b[0m\u001b[0;34m(\u001b[0m\u001b[0minstance\u001b[0m\u001b[0;34m(\u001b[0m\u001b[0ma\u001b[0m\u001b[0;34m)\u001b[0m\u001b[0;34m)\u001b[0m\u001b[0;34m\u001b[0m\u001b[0;34m\u001b[0m\u001b[0m\n\u001b[0m",
            "\u001b[0;31mNameError\u001b[0m: name 'instance' is not defined"
          ]
        }
      ]
    },
    {
      "source": [
        "huge_number = 10**1000  # 10 raised to the power of 1000\n",
        "print(huge_number)\n",
        "print(type(huge_number))"
      ],
      "cell_type": "code",
      "metadata": {
        "id": "rc_zQqOBMARt",
        "outputId": "062a5c7e-56b1-461c-fcf9-e9cdccec95c0",
        "colab": {
          "base_uri": "https://localhost:8080/"
        }
      },
      "execution_count": null,
      "outputs": [
        {
          "output_type": "stream",
          "name": "stdout",
          "text": [
            "10000000000000000000000000000000000000000000000000000000000000000000000000000000000000000000000000000000000000000000000000000000000000000000000000000000000000000000000000000000000000000000000000000000000000000000000000000000000000000000000000000000000000000000000000000000000000000000000000000000000000000000000000000000000000000000000000000000000000000000000000000000000000000000000000000000000000000000000000000000000000000000000000000000000000000000000000000000000000000000000000000000000000000000000000000000000000000000000000000000000000000000000000000000000000000000000000000000000000000000000000000000000000000000000000000000000000000000000000000000000000000000000000000000000000000000000000000000000000000000000000000000000000000000000000000000000000000000000000000000000000000000000000000000000000000000000000000000000000000000000000000000000000000000000000000000000000000000000000000000000000000000000000000000000000000000000000000000000000000000000000000000000000000000000000000000000000000\n",
            "<class 'int'>\n"
          ]
        }
      ]
    },
    {
      "source": [
        "print(isinstance(a, int))"
      ],
      "cell_type": "code",
      "metadata": {
        "id": "F4Mf60A2LrTc",
        "outputId": "98dd83ec-0e64-422d-87bb-7926ff331fef",
        "colab": {
          "base_uri": "https://localhost:8080/"
        }
      },
      "execution_count": null,
      "outputs": [
        {
          "output_type": "stream",
          "name": "stdout",
          "text": [
            "True\n"
          ]
        }
      ]
    },
    {
      "cell_type": "code",
      "source": [
        "a = \"Baba\"\n",
        "print(a*2)\n",
        "#Length of the string\n",
        "s = input(\"enter a string\")\n",
        "c = 0\n",
        "for i in s:\n",
        "  c += 1\n",
        "\n",
        "print(\"length = \", c)\n",
        "\n",
        "# Use Len function\n",
        "print(len(s))"
      ],
      "metadata": {
        "colab": {
          "base_uri": "https://localhost:8080/"
        },
        "id": "iTZ6obQt-5m2",
        "outputId": "126f7f36-d2ea-4bca-85f2-c9e2d6c40167"
      },
      "execution_count": 12,
      "outputs": [
        {
          "output_type": "stream",
          "name": "stdout",
          "text": [
            "BabaBaba\n",
            "enter a stringSalesforce\n",
            "length =  10\n",
            "10\n"
          ]
        }
      ]
    },
    {
      "cell_type": "code",
      "source": [
        "# membership operator\n",
        "if \"a\" in \"apple\" :\n",
        "  print(\"yes\")\n",
        "else:\n",
        "  print(\"no\")\n",
        "\n",
        "print(\"applebananaaple\".count(\"ap\"))\n"
      ],
      "metadata": {
        "id": "npE-364LCnCO",
        "outputId": "48afffb8-70a1-4469-bd6a-dedcc841b281",
        "colab": {
          "base_uri": "https://localhost:8080/"
        }
      },
      "execution_count": 18,
      "outputs": [
        {
          "output_type": "stream",
          "name": "stdout",
          "text": [
            "yes\n",
            "2\n"
          ]
        }
      ]
    },
    {
      "cell_type": "code",
      "source": [
        "# startswith method\n",
        "\n",
        "mobno = input('Enter your mobile no. with country code')\n",
        "if mobno.startswith('+91'):\n",
        "  print('India')\n",
        "elif mobno.startswith('+1'):\n",
        "  print('US')\n",
        "else:\n",
        "  print('Other')"
      ],
      "metadata": {
        "id": "04nO18BCFifg",
        "outputId": "69028580-555f-4a64-88bf-b4a2a5eaea10",
        "colab": {
          "base_uri": "https://localhost:8080/"
        }
      },
      "execution_count": 23,
      "outputs": [
        {
          "output_type": "stream",
          "name": "stdout",
          "text": [
            "Enter your mobile no. with country code+885563664\n",
            "Other\n"
          ]
        }
      ]
    },
    {
      "cell_type": "code",
      "source": [
        "# endswith\n",
        "\n",
        "url = input(\"enter an URL : \")\n",
        "if url.endswith('.edu'):\n",
        "  print('Educational')\n",
        "elif url.endswith('.com'):\n",
        "  print('Commercial')\n",
        "else:\n",
        "  print('Other')"
      ],
      "metadata": {
        "id": "wqWblTe4GMQh",
        "outputId": "e9818478-8c8c-477a-e59a-7b86e59c5336",
        "colab": {
          "base_uri": "https://localhost:8080/"
        }
      },
      "execution_count": 26,
      "outputs": [
        {
          "output_type": "stream",
          "name": "stdout",
          "text": [
            "enter an URL : www.fece.book\n",
            "Other\n"
          ]
        }
      ]
    }
  ]
}