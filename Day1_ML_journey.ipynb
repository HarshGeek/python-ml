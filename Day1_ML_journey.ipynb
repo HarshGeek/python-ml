{
  "nbformat": 4,
  "nbformat_minor": 0,
  "metadata": {
    "colab": {
      "provenance": []
    },
    "kernelspec": {
      "name": "python3",
      "display_name": "Python 3"
    },
    "language_info": {
      "name": "python"
    }
  },
  "cells": [
    {
      "cell_type": "code",
      "execution_count": null,
      "metadata": {
        "colab": {
          "base_uri": "https://localhost:8080/"
        },
        "id": "HpmbKqI7jltH",
        "outputId": "4ce8517d-73d1-4838-caa0-3397c21db1e7"
      },
      "outputs": [
        {
          "output_type": "stream",
          "name": "stdout",
          "text": [
            "hello Bhai!\n"
          ]
        }
      ],
      "source": [
        "print(\"hello Bhai!\")"
      ]
    },
    {
      "cell_type": "code",
      "source": [
        "list1 = [10,2,3,4,5]\n",
        "\n",
        "list2 =list1[:]\n",
        "list2[0] = 6\n",
        "\n",
        "print(list2)\n",
        "print(list1)\n",
        "#"
      ],
      "metadata": {
        "colab": {
          "base_uri": "https://localhost:8080/"
        },
        "id": "fcOJRWfUBUtp",
        "outputId": "cff5639d-c51b-485f-b520-24a6101b125b"
      },
      "execution_count": 7,
      "outputs": [
        {
          "output_type": "stream",
          "name": "stdout",
          "text": [
            "[6, 2, 3, 4, 5]\n",
            "[10, 2, 3, 4, 5]\n"
          ]
        }
      ]
    },
    {
      "cell_type": "code",
      "source": [
        "m = {\"a\": 1, \"b\" : 2}\n",
        "print(m.keys())"
      ],
      "metadata": {
        "colab": {
          "base_uri": "https://localhost:8080/"
        },
        "id": "CnB09rNeCfYu",
        "outputId": "eab128c0-d252-4af1-9dc4-0f29662801ac"
      },
      "execution_count": 8,
      "outputs": [
        {
          "output_type": "stream",
          "name": "stdout",
          "text": [
            "dict_keys(['a', 'b'])\n"
          ]
        }
      ]
    },
    {
      "cell_type": "code",
      "source": [
        "for i in range(5):\n",
        "  print(i)"
      ],
      "metadata": {
        "colab": {
          "base_uri": "https://localhost:8080/"
        },
        "id": "rZaoXKpNC-yP",
        "outputId": "0548eb84-bddb-43b9-c472-d004f7658b24"
      },
      "execution_count": 9,
      "outputs": [
        {
          "output_type": "stream",
          "name": "stdout",
          "text": [
            "0\n",
            "1\n",
            "2\n",
            "3\n",
            "4\n"
          ]
        }
      ]
    },
    {
      "cell_type": "code",
      "source": [
        "n = [1,2,3,4,5]\n",
        "new_num = [x**2 for x in n]\n",
        "print(new_num)\n",
        "s = str(n)\n",
        "print(s)"
      ],
      "metadata": {
        "colab": {
          "base_uri": "https://localhost:8080/"
        },
        "id": "lNohs5UkDDtx",
        "outputId": "d26050f7-431a-4da7-9e29-4ffe6acf5290"
      },
      "execution_count": 14,
      "outputs": [
        {
          "output_type": "stream",
          "name": "stdout",
          "text": [
            "[1, 4, 9, 16, 25]\n",
            "[1, 2, 3, 4, 5]\n"
          ]
        }
      ]
    },
    {
      "cell_type": "code",
      "source": [
        "a=2\n",
        "print(type(a))\n",
        "a=2.1\n",
        "print(type(a))\n",
        "a=\"hello\"\n",
        "print(type(a))\n",
        "print(a)"
      ],
      "metadata": {
        "id": "34ZbDQBAxLWX",
        "colab": {
          "base_uri": "https://localhost:8080/"
        },
        "outputId": "4b20890d-51b2-4baa-9362-7d4f1f9c05fb"
      },
      "execution_count": null,
      "outputs": [
        {
          "output_type": "stream",
          "name": "stdout",
          "text": [
            "<class 'int'>\n",
            "<class 'float'>\n",
            "<class 'str'>\n",
            "hello\n"
          ]
        }
      ]
    },
    {
      "cell_type": "code",
      "source": [
        "a=100\n",
        "print(id(a))"
      ],
      "metadata": {
        "colab": {
          "base_uri": "https://localhost:8080/"
        },
        "id": "hPI1wL4tBLSY",
        "outputId": "eed2fd41-1fa1-4390-d246-cf8491e5585f"
      },
      "execution_count": null,
      "outputs": [
        {
          "output_type": "stream",
          "name": "stdout",
          "text": [
            "10754024\n"
          ]
        }
      ]
    },
    {
      "cell_type": "code",
      "source": [
        "print(123 + 0.0)"
      ],
      "metadata": {
        "colab": {
          "base_uri": "https://localhost:8080/"
        },
        "id": "mUu0R6sQEh-N",
        "outputId": "1d8ec42b-97e1-487b-ba24-ddc6240e5907"
      },
      "execution_count": 15,
      "outputs": [
        {
          "output_type": "stream",
          "name": "stdout",
          "text": [
            "123.0\n"
          ]
        }
      ]
    },
    {
      "cell_type": "code",
      "source": [
        "b=100\n",
        "print(id(b))"
      ],
      "metadata": {
        "colab": {
          "base_uri": "https://localhost:8080/"
        },
        "id": "BkQ7B5dRD_v2",
        "outputId": "16c2d0c7-0076-4fc1-f95f-776622bfa3cb"
      },
      "execution_count": null,
      "outputs": [
        {
          "output_type": "stream",
          "name": "stdout",
          "text": [
            "10754024\n"
          ]
        }
      ]
    },
    {
      "cell_type": "code",
      "source": [
        "def m(a=2, b):\n",
        "  return a *b\n",
        "\n",
        "m(3)"
      ],
      "metadata": {
        "colab": {
          "base_uri": "https://localhost:8080/",
          "height": 106
        },
        "id": "Pw1cK0oBFm0d",
        "outputId": "ba9f796f-eded-4de4-f0f0-098fbb36f904"
      },
      "execution_count": 16,
      "outputs": [
        {
          "output_type": "error",
          "ename": "SyntaxError",
          "evalue": "non-default argument follows default argument (<ipython-input-16-a2d2f65e248d>, line 1)",
          "traceback": [
            "\u001b[0;36m  File \u001b[0;32m\"<ipython-input-16-a2d2f65e248d>\"\u001b[0;36m, line \u001b[0;32m1\u001b[0m\n\u001b[0;31m    def m(a=2, b):\u001b[0m\n\u001b[0m               ^\u001b[0m\n\u001b[0;31mSyntaxError\u001b[0m\u001b[0;31m:\u001b[0m non-default argument follows default argument\n"
          ]
        }
      ]
    },
    {
      "cell_type": "code",
      "source": [
        "\n",
        "x = [1,2,3,4,5]\n",
        "for i in range(len(x)-1,-1,-2) : print(x[i])"
      ],
      "metadata": {
        "colab": {
          "base_uri": "https://localhost:8080/"
        },
        "id": "oFeAu0_SF1yv",
        "outputId": "a062f60b-c1cf-4f27-89df-236addfc07f9"
      },
      "execution_count": 20,
      "outputs": [
        {
          "output_type": "stream",
          "name": "stdout",
          "text": [
            "5\n",
            "3\n",
            "1\n"
          ]
        }
      ]
    },
    {
      "cell_type": "code",
      "source": [
        "c=100\n",
        "print(id(c))"
      ],
      "metadata": {
        "colab": {
          "base_uri": "https://localhost:8080/"
        },
        "id": "JJQMj1-5EMMi",
        "outputId": "78353765-e31b-452b-e356-c4252479abbc"
      },
      "execution_count": null,
      "outputs": [
        {
          "output_type": "stream",
          "name": "stdout",
          "text": [
            "10754024\n"
          ]
        }
      ]
    },
    {
      "cell_type": "code",
      "source": [
        "c=a"
      ],
      "metadata": {
        "id": "LxaXcrGRGxYs"
      },
      "execution_count": null,
      "outputs": []
    },
    {
      "cell_type": "code",
      "source": [
        "p = (range(-1,1))\n",
        "print(p)\n",
        "j= 1\n",
        "for i in p:\n",
        "  if 3*i < 6:\n",
        "    j+=2\n",
        "  else:\n",
        "    j+=3\n",
        "\n",
        "print(j)"
      ],
      "metadata": {
        "colab": {
          "base_uri": "https://localhost:8080/"
        },
        "id": "fqUMVRpTJNvN",
        "outputId": "3619747a-5a0c-4b22-a0f5-c457373b5821"
      },
      "execution_count": 34,
      "outputs": [
        {
          "output_type": "stream",
          "name": "stdout",
          "text": [
            "range(-1, 1)\n",
            "5\n"
          ]
        }
      ]
    },
    {
      "cell_type": "code",
      "source": [
        "def fun(n):\n",
        "  if n == 0:\n",
        "    return 'O'\n",
        "  else:\n",
        "    return n * fun(n-1)\n",
        "\n",
        "print(fun(3))"
      ],
      "metadata": {
        "colab": {
          "base_uri": "https://localhost:8080/"
        },
        "id": "H70kmk0sJ8q4",
        "outputId": "d2029915-dcc5-47c3-fb63-f3a4be5f0ac2"
      },
      "execution_count": 36,
      "outputs": [
        {
          "output_type": "stream",
          "name": "stdout",
          "text": [
            "OOOOOO\n"
          ]
        }
      ]
    },
    {
      "cell_type": "code",
      "source": [
        "print(10//3**2)"
      ],
      "metadata": {
        "colab": {
          "base_uri": "https://localhost:8080/"
        },
        "id": "yvgUHaDeI0PO",
        "outputId": "5e8a972c-7f6f-42bf-f363-5d7a3c9be768"
      },
      "execution_count": 28,
      "outputs": [
        {
          "output_type": "stream",
          "name": "stdout",
          "text": [
            "1\n"
          ]
        }
      ]
    },
    {
      "cell_type": "code",
      "source": [
        "b=c\n",
        "print(id(b))"
      ],
      "metadata": {
        "colab": {
          "base_uri": "https://localhost:8080/"
        },
        "id": "G6Ud_natGqkT",
        "outputId": "1d5c9bc7-1f36-4c19-db1a-e37134dc16bf"
      },
      "execution_count": null,
      "outputs": [
        {
          "output_type": "stream",
          "name": "stdout",
          "text": [
            "10754024\n"
          ]
        }
      ]
    },
    {
      "cell_type": "code",
      "source": [
        "a=b=c\n",
        "print(a,b,c)"
      ],
      "metadata": {
        "id": "iw9utsoYHfDL",
        "outputId": "6e50a11a-2004-4442-a1d8-5dbb15b8f87c",
        "colab": {
          "base_uri": "https://localhost:8080/"
        }
      },
      "execution_count": null,
      "outputs": [
        {
          "output_type": "stream",
          "name": "stdout",
          "text": [
            "100 100 100\n"
          ]
        }
      ]
    },
    {
      "cell_type": "code",
      "source": [
        "import keyword as kw\n",
        "print(kw.kwlist) # List all the keywords in Python"
      ],
      "metadata": {
        "id": "uBhonXHkHpm4",
        "outputId": "745acea2-9583-4670-f712-9e06899bef4e",
        "colab": {
          "base_uri": "https://localhost:8080/"
        }
      },
      "execution_count": null,
      "outputs": [
        {
          "output_type": "stream",
          "name": "stdout",
          "text": [
            "['False', 'None', 'True', 'and', 'as', 'assert', 'async', 'await', 'break', 'class', 'continue', 'def', 'del', 'elif', 'else', 'except', 'finally', 'for', 'from', 'global', 'if', 'import', 'in', 'is', 'lambda', 'nonlocal', 'not', 'or', 'pass', 'raise', 'return', 'try', 'while', 'with', 'yield']\n"
          ]
        }
      ]
    },
    {
      "cell_type": "code",
      "source": [
        "as=2 # Keyawords cannot be used as variable name\n",
        "print(as)"
      ],
      "metadata": {
        "id": "BXOE4GOXKB3g",
        "outputId": "7b452357-5b2f-4124-8491-7ccd7514953f",
        "colab": {
          "base_uri": "https://localhost:8080/",
          "height": 106
        }
      },
      "execution_count": null,
      "outputs": [
        {
          "output_type": "error",
          "ename": "SyntaxError",
          "evalue": "invalid syntax (<ipython-input-22-95ab0417a2c5>, line 1)",
          "traceback": [
            "\u001b[0;36m  File \u001b[0;32m\"<ipython-input-22-95ab0417a2c5>\"\u001b[0;36m, line \u001b[0;32m1\u001b[0m\n\u001b[0;31m    as=2\u001b[0m\n\u001b[0m    ^\u001b[0m\n\u001b[0;31mSyntaxError\u001b[0m\u001b[0;31m:\u001b[0m invalid syntax\n"
          ]
        }
      ]
    },
    {
      "cell_type": "code",
      "source": [
        "# Multiline comments are made using \"\"\"\n",
        "\"\"\" This is\n",
        "Multi-line\n",
        "Comment \"\"\"\n",
        "print(\"Hello\")"
      ],
      "metadata": {
        "id": "EEhJaRrWKQo8",
        "outputId": "10b77604-be64-46aa-aeac-bacdb49833ad",
        "colab": {
          "base_uri": "https://localhost:8080/"
        }
      },
      "execution_count": null,
      "outputs": [
        {
          "output_type": "stream",
          "name": "stdout",
          "text": [
            "Hello\n"
          ]
        }
      ]
    },
    {
      "cell_type": "code",
      "source": [
        "print(instance(a))"
      ],
      "metadata": {
        "id": "ey2jYIa0Ld5n",
        "outputId": "557b38e0-a5a7-47ba-adac-ecaab71bb67e",
        "colab": {
          "base_uri": "https://localhost:8080/",
          "height": 141
        }
      },
      "execution_count": null,
      "outputs": [
        {
          "output_type": "error",
          "ename": "NameError",
          "evalue": "name 'instance' is not defined",
          "traceback": [
            "\u001b[0;31m---------------------------------------------------------------------------\u001b[0m",
            "\u001b[0;31mNameError\u001b[0m                                 Traceback (most recent call last)",
            "\u001b[0;32m<ipython-input-26-82d1b691d05a>\u001b[0m in \u001b[0;36m<cell line: 0>\u001b[0;34m()\u001b[0m\n\u001b[0;32m----> 1\u001b[0;31m \u001b[0mprint\u001b[0m\u001b[0;34m(\u001b[0m\u001b[0minstance\u001b[0m\u001b[0;34m(\u001b[0m\u001b[0ma\u001b[0m\u001b[0;34m)\u001b[0m\u001b[0;34m)\u001b[0m\u001b[0;34m\u001b[0m\u001b[0;34m\u001b[0m\u001b[0m\n\u001b[0m",
            "\u001b[0;31mNameError\u001b[0m: name 'instance' is not defined"
          ]
        }
      ]
    },
    {
      "source": [
        "huge_number = 10**1000  # 10 raised to the power of 1000\n",
        "print(huge_number)\n",
        "print(type(huge_number))"
      ],
      "cell_type": "code",
      "metadata": {
        "id": "rc_zQqOBMARt",
        "outputId": "062a5c7e-56b1-461c-fcf9-e9cdccec95c0",
        "colab": {
          "base_uri": "https://localhost:8080/"
        }
      },
      "execution_count": null,
      "outputs": [
        {
          "output_type": "stream",
          "name": "stdout",
          "text": [
            "10000000000000000000000000000000000000000000000000000000000000000000000000000000000000000000000000000000000000000000000000000000000000000000000000000000000000000000000000000000000000000000000000000000000000000000000000000000000000000000000000000000000000000000000000000000000000000000000000000000000000000000000000000000000000000000000000000000000000000000000000000000000000000000000000000000000000000000000000000000000000000000000000000000000000000000000000000000000000000000000000000000000000000000000000000000000000000000000000000000000000000000000000000000000000000000000000000000000000000000000000000000000000000000000000000000000000000000000000000000000000000000000000000000000000000000000000000000000000000000000000000000000000000000000000000000000000000000000000000000000000000000000000000000000000000000000000000000000000000000000000000000000000000000000000000000000000000000000000000000000000000000000000000000000000000000000000000000000000000000000000000000000000000000000000000000000000000\n",
            "<class 'int'>\n"
          ]
        }
      ]
    },
    {
      "source": [
        "print(isinstance(a, int))"
      ],
      "cell_type": "code",
      "metadata": {
        "id": "F4Mf60A2LrTc",
        "outputId": "98dd83ec-0e64-422d-87bb-7926ff331fef",
        "colab": {
          "base_uri": "https://localhost:8080/"
        }
      },
      "execution_count": null,
      "outputs": [
        {
          "output_type": "stream",
          "name": "stdout",
          "text": [
            "True\n"
          ]
        }
      ]
    },
    {
      "cell_type": "code",
      "source": [
        "a = \"Baba\"\n",
        "print(a*2)\n",
        "#Length of the string\n",
        "s = input(\"enter a string\")\n",
        "c = 0\n",
        "for i in s:\n",
        "  c += 1\n",
        "\n",
        "print(\"length = \", c)\n",
        "\n",
        "# Use Len function\n",
        "print(len(s))"
      ],
      "metadata": {
        "colab": {
          "base_uri": "https://localhost:8080/"
        },
        "id": "iTZ6obQt-5m2",
        "outputId": "126f7f36-d2ea-4bca-85f2-c9e2d6c40167"
      },
      "execution_count": null,
      "outputs": [
        {
          "output_type": "stream",
          "name": "stdout",
          "text": [
            "BabaBaba\n",
            "enter a stringSalesforce\n",
            "length =  10\n",
            "10\n"
          ]
        }
      ]
    },
    {
      "cell_type": "code",
      "source": [
        "# membership operator\n",
        "if \"a\" in \"apple\" :\n",
        "  print(\"yes\")\n",
        "else:\n",
        "  print(\"no\")\n",
        "\n",
        "print(\"applebananaaple\".count(\"ap\"))\n"
      ],
      "metadata": {
        "colab": {
          "base_uri": "https://localhost:8080/"
        },
        "id": "npE-364LCnCO",
        "outputId": "48afffb8-70a1-4469-bd6a-dedcc841b281"
      },
      "execution_count": null,
      "outputs": [
        {
          "output_type": "stream",
          "name": "stdout",
          "text": [
            "yes\n",
            "2\n"
          ]
        }
      ]
    },
    {
      "cell_type": "code",
      "source": [
        "# startswith method\n",
        "\n",
        "mobno = input('Enter your mobile no. with country code')\n",
        "if mobno.startswith('+91'):\n",
        "  print('India')\n",
        "elif mobno.startswith('+1'):\n",
        "  print('US')\n",
        "else:\n",
        "  print('Other')"
      ],
      "metadata": {
        "colab": {
          "base_uri": "https://localhost:8080/"
        },
        "id": "04nO18BCFifg",
        "outputId": "69028580-555f-4a64-88bf-b4a2a5eaea10"
      },
      "execution_count": null,
      "outputs": [
        {
          "output_type": "stream",
          "name": "stdout",
          "text": [
            "Enter your mobile no. with country code+885563664\n",
            "Other\n"
          ]
        }
      ]
    },
    {
      "cell_type": "code",
      "source": [
        "# endswith\n",
        "\n",
        "url = input(\"enter an URL : \")\n",
        "if url.endswith('.edu'):\n",
        "  print('Educational')\n",
        "elif url.endswith('.com'):\n",
        "  print('Commercial')\n",
        "else:\n",
        "  print('Other')"
      ],
      "metadata": {
        "colab": {
          "base_uri": "https://localhost:8080/"
        },
        "id": "wqWblTe4GMQh",
        "outputId": "e9818478-8c8c-477a-e59a-7b86e59c5336"
      },
      "execution_count": null,
      "outputs": [
        {
          "output_type": "stream",
          "name": "stdout",
          "text": [
            "enter an URL : www.fece.book\n",
            "Other\n"
          ]
        }
      ]
    },
    {
      "cell_type": "code",
      "source": [
        "from os import name\n",
        "# lstrip method\n",
        "name = input('Enter your name : ')\n",
        "print(name.lstrip())\n"
      ],
      "metadata": {
        "id": "2TxTlykqHgCg",
        "outputId": "804c7df8-931d-440b-f68f-0eebb45b9f20",
        "colab": {
          "base_uri": "https://localhost:8080/"
        }
      },
      "execution_count": null,
      "outputs": [
        {
          "output_type": "stream",
          "name": "stdout",
          "text": [
            "Enter your name :    NTT\n",
            "NTT\n"
          ]
        }
      ]
    },
    {
      "cell_type": "code",
      "source": [
        "url = [\"www.google.com\", \"www.youtube.com\", \"www.wikipedia.com\"]\n",
        "for i in url:\n",
        "  print(i.lstrip('www.'))"
      ],
      "metadata": {
        "id": "ZLcbHhlVH1Pe",
        "outputId": "1f14c7ac-f917-44ac-ff84-467f9d2ecbf7",
        "colab": {
          "base_uri": "https://localhost:8080/"
        }
      },
      "execution_count": null,
      "outputs": [
        {
          "output_type": "stream",
          "name": "stdout",
          "text": [
            "google.com\n",
            "youtube.com\n",
            "ikipedia.com\n"
          ]
        }
      ]
    },
    {
      "cell_type": "code",
      "source": [
        "# rstrip method\n",
        "url = [\"http://www.google.com\", \"www.youtube.com\", \"www.wikipedia.com\"]\n",
        "for i in url:\n",
        "  print(i.rstrip('htp.com'))"
      ],
      "metadata": {
        "id": "t_BlkQDXMhM2",
        "outputId": "f17f0752-de2c-434e-eff9-aed740962815",
        "colab": {
          "base_uri": "https://localhost:8080/"
        }
      },
      "execution_count": null,
      "outputs": [
        {
          "output_type": "stream",
          "name": "stdout",
          "text": [
            "http://www.google\n",
            "www.youtube\n",
            "www.wikipedia\n"
          ]
        }
      ]
    },
    {
      "cell_type": "code",
      "source": [
        "d1 = {2:100,4:200,6:300,8:400}\n",
        "print(d1)\n",
        "print(type(d1))\n",
        "print(d1[4])"
      ],
      "metadata": {
        "id": "OPodg5Ixbhgi",
        "outputId": "a9c180bf-d34d-4e91-c8d7-534daf00a483",
        "colab": {
          "base_uri": "https://localhost:8080/"
        }
      },
      "execution_count": null,
      "outputs": [
        {
          "output_type": "stream",
          "name": "stdout",
          "text": [
            "{2: 100, 4: 200, 6: 300, 8: 400}\n",
            "<class 'dict'>\n",
            "200\n"
          ]
        }
      ]
    },
    {
      "cell_type": "code",
      "source": [
        "d2 ={'aa': 100  , 'bb': 200 , 'cc': 300}\n",
        "print(d2)\n",
        "print(d2['aa'])"
      ],
      "metadata": {
        "id": "TEDJWNj5cWtx",
        "outputId": "867e108a-e264-468e-a814-362ef517d4e2",
        "colab": {
          "base_uri": "https://localhost:8080/"
        }
      },
      "execution_count": null,
      "outputs": [
        {
          "output_type": "stream",
          "name": "stdout",
          "text": [
            "{'aa': 100, 'bb': 200, 'cc': 300}\n",
            "100\n"
          ]
        }
      ]
    },
    {
      "cell_type": "code",
      "source": [
        "d3 = {3:[1,2,3], 6:(4,5,6), 9:{7,8,9}}\n",
        "print(d3)\n",
        "print(d3[6])\n",
        "print(d3[6][2])\n",
        "print(d3[3][0])\n",
        "print(d3[9])"
      ],
      "metadata": {
        "id": "fPCitIGKchHI",
        "outputId": "36722543-9a13-44e2-af0b-f9e54c11a449",
        "colab": {
          "base_uri": "https://localhost:8080/"
        }
      },
      "execution_count": null,
      "outputs": [
        {
          "output_type": "stream",
          "name": "stdout",
          "text": [
            "{3: [1, 2, 3], 6: (4, 5, 6), 9: {8, 9, 7}}\n",
            "(4, 5, 6)\n",
            "6\n",
            "1\n",
            "{8, 9, 7}\n"
          ]
        }
      ]
    },
    {
      "cell_type": "code",
      "source": [
        "d4 = {(1,2): 100, (3,4): 200, (5,6): 300}\n",
        "print(d4)\n",
        "print(d4[(1,2)])"
      ],
      "metadata": {
        "id": "j8QJejeIdQGg",
        "outputId": "99eef62e-55c9-4cde-d1ff-99b71e1e728f",
        "colab": {
          "base_uri": "https://localhost:8080/"
        }
      },
      "execution_count": null,
      "outputs": [
        {
          "output_type": "stream",
          "name": "stdout",
          "text": [
            "{(1, 2): 100, (3, 4): 200, (5, 6): 300}\n",
            "100\n"
          ]
        }
      ]
    },
    {
      "cell_type": "code",
      "source": [
        "d5 = {1: 100, \"Ha\": \"20/05/2006\", (1,2,3): \"Bans\" , (9,8,7): 8585}\n",
        "print(d5)"
      ],
      "metadata": {
        "id": "FVtWp_FWeCqo",
        "outputId": "13ce9df9-b999-46d9-f018-9422f713d663",
        "colab": {
          "base_uri": "https://localhost:8080/"
        }
      },
      "execution_count": null,
      "outputs": [
        {
          "output_type": "stream",
          "name": "stdout",
          "text": [
            "{1: 100, 'Ha': '20/05/2006', (1, 2, 3): 'Bans', (9, 8, 7): 8585}\n"
          ]
        }
      ]
    },
    {
      "cell_type": "code",
      "source": [
        "# Interation through dict\n",
        "d1 = {2:100, 4:200, 6:300, 8:400}\n",
        "\n",
        "for key1 in d1:\n",
        "  print(key1)"
      ],
      "metadata": {
        "id": "j2NEKHwxev2k",
        "outputId": "a1e6eef9-dcc4-4e74-f6a1-174a270fb429",
        "colab": {
          "base_uri": "https://localhost:8080/"
        }
      },
      "execution_count": null,
      "outputs": [
        {
          "output_type": "stream",
          "name": "stdout",
          "text": [
            "2\n",
            "4\n",
            "6\n",
            "8\n"
          ]
        }
      ]
    },
    {
      "cell_type": "code",
      "source": [
        "d1 = {2:100, 4:200, 6:300, 8:400}\n",
        "\n",
        "for value in d1.values():\n",
        "  print(value)"
      ],
      "metadata": {
        "id": "b2T_1ccHfF20",
        "outputId": "99553361-e5e0-43e3-e876-36e04e40dbbc",
        "colab": {
          "base_uri": "https://localhost:8080/"
        }
      },
      "execution_count": null,
      "outputs": [
        {
          "output_type": "stream",
          "name": "stdout",
          "text": [
            "100\n",
            "200\n",
            "300\n",
            "400\n"
          ]
        }
      ]
    },
    {
      "cell_type": "code",
      "source": [
        "d1 = {2:100, 4:200, 6:300, 8:400}\n",
        "\n",
        "for key,value in d1.items():\n",
        "  print(key)\n",
        "  print(value)"
      ],
      "metadata": {
        "id": "hvIHiH8-fNs7",
        "outputId": "6b86d887-a2a1-4604-8c01-1653d755a475",
        "colab": {
          "base_uri": "https://localhost:8080/"
        }
      },
      "execution_count": null,
      "outputs": [
        {
          "output_type": "stream",
          "name": "stdout",
          "text": [
            "2\n",
            "100\n",
            "4\n",
            "200\n",
            "6\n",
            "300\n",
            "8\n",
            "400\n"
          ]
        }
      ]
    },
    {
      "cell_type": "code",
      "source": [
        "d1 = {2:100, 4:200, 6:300, 8:400}\n",
        "\n",
        "for x,y in d1.items():\n",
        "  print(x)\n",
        "  print(y)"
      ],
      "metadata": {
        "id": "J8mNh7qrfVNU",
        "outputId": "97afc93e-a585-43dd-fd10-a1e99224654a",
        "colab": {
          "base_uri": "https://localhost:8080/"
        }
      },
      "execution_count": null,
      "outputs": [
        {
          "output_type": "stream",
          "name": "stdout",
          "text": [
            "2\n",
            "100\n",
            "4\n",
            "200\n",
            "6\n",
            "300\n",
            "8\n",
            "400\n"
          ]
        }
      ]
    },
    {
      "cell_type": "code",
      "source": [
        "d1 = {2:100, 4:200, 6:300, 8:400}\n",
        "keys = d1.keys()\n",
        "print(keys)\n",
        "print(type(keys))\n",
        "\n",
        "l1 = list(keys)\n",
        "print(l1)\n",
        "print(type(l1))"
      ],
      "metadata": {
        "id": "8O794hRciWUC",
        "outputId": "1eb5d6f5-7c80-45d6-bde9-e3f78bdc6007",
        "colab": {
          "base_uri": "https://localhost:8080/"
        }
      },
      "execution_count": null,
      "outputs": [
        {
          "output_type": "stream",
          "name": "stdout",
          "text": [
            "dict_keys([2, 4, 6, 8])\n",
            "<class 'dict_keys'>\n",
            "[2, 4, 6, 8]\n",
            "<class 'list'>\n"
          ]
        }
      ]
    },
    {
      "cell_type": "code",
      "source": [
        "#get\n",
        "d1 = {2:100, 4:200, 6:300, 8:400}\n",
        "\n",
        "x = d1.get(2)\n",
        "print(x)\n",
        "\n",
        "y = d1.get(5, \"default\")\n",
        "print(y)"
      ],
      "metadata": {
        "id": "4ic5oPSlkVTl",
        "outputId": "75f151fd-939b-4447-da78-4623dc283ab7",
        "colab": {
          "base_uri": "https://localhost:8080/"
        }
      },
      "execution_count": null,
      "outputs": [
        {
          "output_type": "stream",
          "name": "stdout",
          "text": [
            "100\n",
            "default\n"
          ]
        }
      ]
    },
    {
      "cell_type": "code",
      "source": [
        "#shallow copy\n",
        "d1 = {2:100, 4:200, 6:300, 8:400}\n",
        "d2 = d1.copy()\n",
        "\n",
        "print(d1)\n",
        "print(d2)\n",
        "\n",
        "print(id(d1))\n",
        "print(id(d2))"
      ],
      "metadata": {
        "id": "_sa6ciS1nraX",
        "outputId": "6bc41913-f8d3-476a-8022-38cc0721a1c3",
        "colab": {
          "base_uri": "https://localhost:8080/"
        }
      },
      "execution_count": null,
      "outputs": [
        {
          "output_type": "stream",
          "name": "stdout",
          "text": [
            "{2: 100, 4: 200, 6: 300, 8: 400}\n",
            "{2: 100, 4: 200, 6: 300, 8: 400}\n",
            "135336104198912\n",
            "135336104207040\n"
          ]
        }
      ]
    },
    {
      "cell_type": "code",
      "source": [
        "#fromkeys()\n",
        "keys= [1,2,3,4]\n",
        "d1 = dict.fromkeys(keys)\n",
        "print(d1)\n",
        "\n",
        "d2 = dict.fromkeys(keys, 100)\n",
        "print(d2)"
      ],
      "metadata": {
        "id": "IHy2UH7Lp0lK",
        "outputId": "feb1af8f-2fb9-4a31-8709-df8ea6b2415c",
        "colab": {
          "base_uri": "https://localhost:8080/"
        }
      },
      "execution_count": null,
      "outputs": [
        {
          "output_type": "stream",
          "name": "stdout",
          "text": [
            "{1: None, 2: None, 3: None, 4: None}\n",
            "{1: 100, 2: 100, 3: 100, 4: 100}\n"
          ]
        }
      ]
    },
    {
      "cell_type": "code",
      "source": [
        "k = [1,2,3,4,5,6]\n",
        "v = [10,20,30,40,50,60, 70]\n",
        "d1 = dict(zip(k,v))\n",
        "\n",
        "print(d1)"
      ],
      "metadata": {
        "id": "4mC6RCmnqa1g",
        "outputId": "6a14fae4-09f6-406a-f9b8-6b325ed63746",
        "colab": {
          "base_uri": "https://localhost:8080/"
        }
      },
      "execution_count": null,
      "outputs": [
        {
          "output_type": "stream",
          "name": "stdout",
          "text": [
            "{1: 10, 2: 20, 3: 30, 4: 40, 5: 50, 6: 60}\n"
          ]
        }
      ]
    },
    {
      "cell_type": "code",
      "source": [
        "# Assignment\n",
        "s = \" I live in blr, blr is a garden city and beautiful city\"   # input\n",
        "\n",
        "output = {}\n",
        "\n",
        "for word in s.split():\n",
        "  if word not in output:\n",
        "    output[word] = 1\n",
        "  else:\n",
        "    output[word] += 1\n",
        "\n",
        "print(output)\n",
        "\n",
        "#{'I':1 , 'live':1, 'in':2, 'blr':2, 'is':1, 'a':1, 'garden':1, 'city':2} # output"
      ],
      "metadata": {
        "id": "FksIq_nFrp9v",
        "outputId": "613a73f9-e74d-42dd-812c-d217c242bf44",
        "colab": {
          "base_uri": "https://localhost:8080/"
        }
      },
      "execution_count": null,
      "outputs": [
        {
          "output_type": "stream",
          "name": "stdout",
          "text": [
            "{'I': 1, 'live': 1, 'in': 1, 'blr,': 1, 'blr': 1, 'is': 1, 'a': 1, 'garden': 1, 'city': 2, 'and': 1, 'beautiful': 1}\n"
          ]
        }
      ]
    }
  ]
}